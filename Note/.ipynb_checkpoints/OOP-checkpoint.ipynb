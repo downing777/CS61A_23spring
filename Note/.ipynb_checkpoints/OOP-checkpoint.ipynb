{
 "cells": [
  {
   "cell_type": "markdown",
   "id": "014f9028",
   "metadata": {},
   "source": [
    "# Object Orientation Programming collection"
   ]
  },
  {
   "cell_type": "markdown",
   "id": "b450da17",
   "metadata": {},
   "source": [
    "## 1. Basic class construct and attribute"
   ]
  },
  {
   "cell_type": "markdown",
   "id": "da86d41e",
   "metadata": {},
   "source": [
    "Class: A class combines (and abstracts) data and functions\\\n",
    "Object: An object is an instantiation of a class, a class itself is an object\\\n",
    "Attribute:All objects have attributes, which are name-value pairs"
   ]
  },
  {
   "cell_type": "code",
   "execution_count": 37,
   "id": "f6ca5909",
   "metadata": {},
   "outputs": [],
   "source": [
    "class Account:\n",
    "    interest = 0.02 # class attribute\n",
    "    def __init__(self, account_holder,initial=0):\n",
    "        self.balance = initial # object attribute which is operated independently.\n",
    "        self.holder = account_holder\n",
    "    def withdraw(self, amount): # function\n",
    "        assert amount<=self.balance,'Not enough balance' \n",
    "        self.balance -= amount\n",
    "# RK self represent a instance of the class, not the class"
   ]
  },
  {
   "cell_type": "markdown",
   "id": "a6f8a5c4",
   "metadata": {},
   "source": [
    "Attribute Assignment\\\n",
    "Generally, class attribute is prior to instance attribute.\\\n",
    "For example:"
   ]
  },
  {
   "cell_type": "code",
   "execution_count": 6,
   "id": "4cd5b43e",
   "metadata": {},
   "outputs": [
    {
     "data": {
      "text/plain": [
       "0.02"
      ]
     },
     "execution_count": 6,
     "metadata": {},
     "output_type": "execute_result"
    }
   ],
   "source": [
    "Account.interest"
   ]
  },
  {
   "cell_type": "code",
   "execution_count": 10,
   "id": "b28cf9a4",
   "metadata": {},
   "outputs": [
    {
     "data": {
      "text/plain": [
       "0.02"
      ]
     },
     "execution_count": 10,
     "metadata": {},
     "output_type": "execute_result"
    }
   ],
   "source": [
    "Jim_account = Account('Jim', 10) \n",
    "Tom_account = Account('Tom', 10)\n",
    "Jim_account.interest"
   ]
  },
  {
   "cell_type": "code",
   "execution_count": 16,
   "id": "f90b5cae",
   "metadata": {},
   "outputs": [
    {
     "data": {
      "text/plain": [
       "(0.04, 0.03, 0.03)"
      ]
     },
     "execution_count": 16,
     "metadata": {},
     "output_type": "execute_result"
    }
   ],
   "source": [
    "Jim_account.interest = 0.04\n",
    "Jim_account.interest, Account.interest, Tom_account.interest\n",
    "# instance attribute's change will not cause the chage of class attribute"
   ]
  },
  {
   "cell_type": "code",
   "execution_count": 15,
   "id": "97125757",
   "metadata": {},
   "outputs": [
    {
     "data": {
      "text/plain": [
       "(0.04, 0.03, 0.03)"
      ]
     },
     "execution_count": 15,
     "metadata": {},
     "output_type": "execute_result"
    }
   ],
   "source": [
    "Account.interest = 0.03\n",
    "Jim_account.interest, Account.interest, Tom_account.interest"
   ]
  },
  {
   "cell_type": "markdown",
   "id": "2ade6f56",
   "metadata": {},
   "source": [
    "Remark:\n",
    "If no modification has been operated on one instance's attribute, the change of class attribute will cause the same change on instance's corresponding attribute.\\\n",
    "However, as for Jim account, we have made the assginement as Jim.interest = 0.04, which can be viewed that the instance's attribute has been generated, which is independent of the class one, so the change will not be made as so."
   ]
  },
  {
   "cell_type": "markdown",
   "id": "aab742bf",
   "metadata": {},
   "source": [
    "## 2. function & method"
   ]
  },
  {
   "cell_type": "markdown",
   "id": "eab799df",
   "metadata": {},
   "source": [
    "Functions are objects\\\n",
    "Bound methods are also objects: a function\n",
    "that has its first parameter \"self\" already\n",
    "bound to an instance\\\n",
    "Dot expressions evaluate to bound methods for\n",
    "class attributes that are functions\\\n",
    "调用方法：\\<instance\\>.\\<method_name\\>\n"
   ]
  },
  {
   "cell_type": "markdown",
   "id": "23d4d988",
   "metadata": {},
   "source": [
    "### Class method"
   ]
  },
  {
   "cell_type": "code",
   "execution_count": 22,
   "id": "ac714114",
   "metadata": {},
   "outputs": [],
   "source": [
    "class MyClass:\n",
    "    class_variable = 0\n",
    "\n",
    "    def __init__(self, instance_variable):\n",
    "        self.instance_variable = instance_variable\n",
    "\n",
    "    @classmethod\n",
    "    def class_method(cls, x):\n",
    "        cls.class_variable += x\n",
    "\n",
    "    def instance_method(self, x):\n",
    "        self.instance_variable += x"
   ]
  },
  {
   "cell_type": "code",
   "execution_count": 23,
   "id": "4774411e",
   "metadata": {},
   "outputs": [
    {
     "data": {
      "text/plain": [
       "0"
      ]
     },
     "execution_count": 23,
     "metadata": {},
     "output_type": "execute_result"
    }
   ],
   "source": [
    "MyClass.class_variable"
   ]
  },
  {
   "cell_type": "code",
   "execution_count": 24,
   "id": "fde1d1b4",
   "metadata": {},
   "outputs": [
    {
     "data": {
      "text/plain": [
       "10"
      ]
     },
     "execution_count": 24,
     "metadata": {},
     "output_type": "execute_result"
    }
   ],
   "source": [
    "MyClass.class_method(10)\n",
    "MyClass.class_variable"
   ]
  },
  {
   "cell_type": "markdown",
   "id": "182c7c5d",
   "metadata": {},
   "source": [
    "classmethod is a special type of method that belongs to the class instead of an instance of the class. It is defined using the @classmethod decorator before the method definition.\\\n",
    "Note that when you call a classmethod, you don't need to create an instance of the class. Instead, you can call the method directly on the class itself, as in MyClass.class_method(10) in the example above.\\\n",
    "RK：调用去实体化，对class作改变"
   ]
  },
  {
   "cell_type": "markdown",
   "id": "f0f4f97a",
   "metadata": {},
   "source": [
    "## 3. Inheritance"
   ]
  },
  {
   "cell_type": "markdown",
   "id": "3df62418",
   "metadata": {},
   "source": [
    "Inheritance is a technique for relating classes together\\\n",
    "A common use: Two similar classes differ in their degree of specialization\\\n",
    "Attribute inheritance and method inheritance:"
   ]
  },
  {
   "cell_type": "code",
   "execution_count": 38,
   "id": "006bc69c",
   "metadata": {},
   "outputs": [],
   "source": [
    "class CheckingAccount(Account):\n",
    "    interest = 0.01\n",
    "    commission = 1 # \n",
    "    def __init__(self, account_holder, initial = 10):\n",
    "        super().__init__(account_holder, initial)#省略的assignment写法\n",
    "    # overide the method    \n",
    "    def withdraw(self, amount): # function\n",
    "        assert amount<=self.balance,'Not enough balance' \n",
    "        Account.withdraw(self, amount + self.commission)\n",
    "    "
   ]
  },
  {
   "cell_type": "markdown",
   "id": "d078533d",
   "metadata": {},
   "source": [
    "init函数有更简略的写法，要求子类创建模式与父类完全一致"
   ]
  },
  {
   "cell_type": "code",
   "execution_count": 39,
   "id": "afcd81f0",
   "metadata": {},
   "outputs": [],
   "source": [
    "    def __init__(self, *args, **kwargs): # *arg positional arguments\n",
    "        # ** kwargs key value arguments, assure that all the inputs keep the same\n",
    "        super().__init__(*args, **kwargs)"
   ]
  },
  {
   "cell_type": "markdown",
   "id": "4d9be2ef",
   "metadata": {},
   "source": [
    "此处 arg： account_holder\\\n",
    "kwarg: initial(pair)\\\n",
    "\\* 表示不确定输入个数"
   ]
  },
  {
   "cell_type": "markdown",
   "id": "d26674fe",
   "metadata": {},
   "source": [
    "关于子类函数override的情况， 场景：希望在子类中创建与父类类似的method（共用名字），有部分不同。一般在创建时会调用父类的对应函数，此时如果用self.\\<method\\>会出现死循环，解决方法：\\\n"
   ]
  },
  {
   "cell_type": "code",
   "execution_count": 26,
   "id": "ef3b3095",
   "metadata": {},
   "outputs": [],
   "source": [
    "#   Account.withdraw(self, amount + self.withdraw_fee)# 此处self 指子类的self instance. 与class method 不同\n",
    "#or super().withdraw(amount + self.withdraw_fee)"
   ]
  },
  {
   "cell_type": "code",
   "execution_count": 40,
   "id": "c7f623f1",
   "metadata": {},
   "outputs": [
    {
     "data": {
      "text/plain": [
       "10"
      ]
     },
     "execution_count": 40,
     "metadata": {},
     "output_type": "execute_result"
    }
   ],
   "source": [
    "# Test\n",
    "Dow_checkaccount = CheckingAccount('Dow')\n",
    "Dow_checkaccount.balance"
   ]
  },
  {
   "cell_type": "code",
   "execution_count": 41,
   "id": "df3ae47e",
   "metadata": {},
   "outputs": [
    {
     "data": {
      "text/plain": [
       "4"
      ]
     },
     "execution_count": 41,
     "metadata": {},
     "output_type": "execute_result"
    }
   ],
   "source": [
    "Dow_checkaccount.withdraw(5)\n",
    "Dow_checkaccount.balance"
   ]
  },
  {
   "cell_type": "markdown",
   "id": "ac8bc9fd",
   "metadata": {},
   "source": [
    "## 4. Caution"
   ]
  },
  {
   "cell_type": "code",
   "execution_count": null,
   "id": "5ab4075c",
   "metadata": {},
   "outputs": [],
   "source": []
  }
 ],
 "metadata": {
  "kernelspec": {
   "display_name": "Python 3 (ipykernel)",
   "language": "python",
   "name": "python3"
  },
  "language_info": {
   "codemirror_mode": {
    "name": "ipython",
    "version": 3
   },
   "file_extension": ".py",
   "mimetype": "text/x-python",
   "name": "python",
   "nbconvert_exporter": "python",
   "pygments_lexer": "ipython3",
   "version": "3.10.9"
  }
 },
 "nbformat": 4,
 "nbformat_minor": 5
}
